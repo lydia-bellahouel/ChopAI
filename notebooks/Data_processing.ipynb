{
 "cells": [
  {
   "cell_type": "markdown",
   "id": "02bcbde8",
   "metadata": {},
   "source": [
    "# Data Processing"
   ]
  },
  {
   "cell_type": "markdown",
   "id": "6ad4d80f",
   "metadata": {},
   "source": [
    "## Imports"
   ]
  },
  {
   "cell_type": "code",
   "execution_count": 1,
   "id": "721f7b45",
   "metadata": {},
   "outputs": [],
   "source": [
    "from music21 import converter, instrument, note, chord\n",
    "import sys\n",
    "import numpy as np\n",
    "from imageio import imwrite\n",
    "import os"
   ]
  },
  {
   "cell_type": "markdown",
   "id": "240b29c3",
   "metadata": {},
   "source": [
    "## Selecting piano only pieces (one instrument only)"
   ]
  },
  {
   "cell_type": "code",
   "execution_count": 2,
   "id": "7203aeba",
   "metadata": {
    "scrolled": true
   },
   "outputs": [
    {
     "data": {
      "text/plain": [
       "125"
      ]
     },
     "execution_count": 2,
     "metadata": {},
     "output_type": "execute_result"
    }
   ],
   "source": [
    "files_raw = [file for file in os.listdir('Data')]\n",
    "len(files_raw)"
   ]
  },
  {
   "cell_type": "code",
   "execution_count": 3,
   "id": "be7596a7",
   "metadata": {
    "scrolled": true
   },
   "outputs": [],
   "source": [
    "files = []\n",
    "\n",
    "for file in files_raw: \n",
    "    try: \n",
    "        mid = converter.parse(f'Data/{file}')\n",
    "        file_instruments = instrument.partitionByInstrument(mid)\n",
    "        if len(file_instruments)==1:\n",
    "            files.append(file)\n",
    "    except:\n",
    "        pass"
   ]
  },
  {
   "cell_type": "code",
   "execution_count": 4,
   "id": "42737bf2",
   "metadata": {
    "scrolled": true
   },
   "outputs": [
    {
     "data": {
      "text/plain": [
       "88"
      ]
     },
     "execution_count": 4,
     "metadata": {},
     "output_type": "execute_result"
    }
   ],
   "source": [
    "len(files)"
   ]
  },
  {
   "cell_type": "code",
   "execution_count": 6,
   "id": "42fac016",
   "metadata": {
    "scrolled": true
   },
   "outputs": [
    {
     "data": {
      "text/plain": [
       "37"
      ]
     },
     "execution_count": 6,
     "metadata": {},
     "output_type": "execute_result"
    }
   ],
   "source": [
    "files_removed = [file for file in files_raw if file not in files]\n",
    "len(files_removed)"
   ]
  },
  {
   "cell_type": "markdown",
   "id": "f667876d",
   "metadata": {},
   "source": [
    "## Converting Midi files to images"
   ]
  },
  {
   "cell_type": "code",
   "execution_count": 7,
   "id": "aff9d92f",
   "metadata": {},
   "outputs": [],
   "source": [
    "def extractNote(element):\n",
    "    return int(element.pitch.ps)"
   ]
  },
  {
   "cell_type": "code",
   "execution_count": 8,
   "id": "6d6ac952",
   "metadata": {},
   "outputs": [],
   "source": [
    "def extractDuration(element):\n",
    "    return element.duration.quarterLength"
   ]
  },
  {
   "cell_type": "code",
   "execution_count": 9,
   "id": "f501cd55",
   "metadata": {},
   "outputs": [],
   "source": [
    "def get_notes(notes_to_parse):\n",
    "\n",
    "    \"\"\" Get all the notes and chords from the midi files in the ./midi_songs directory \"\"\"\n",
    "    durations = []\n",
    "    notes = []\n",
    "    start = []\n",
    "\n",
    "    for element in notes_to_parse:\n",
    "        if isinstance(element, note.Note):\n",
    "            if element.isRest:\n",
    "                continue\n",
    "\n",
    "            start.append(element.offset)\n",
    "            notes.append(extractNote(element))\n",
    "            durations.append(extractDuration(element))\n",
    "                \n",
    "        elif isinstance(element, chord.Chord):\n",
    "            if element.isRest:\n",
    "                continue\n",
    "            for chord_note in element:\n",
    "                start.append(element.offset)\n",
    "                durations.append(extractDuration(element))\n",
    "                notes.append(extractNote(chord_note))\n",
    "\n",
    "    return {\"start\":start, \"pitch\":notes, \"dur\":durations}"
   ]
  },
  {
   "cell_type": "code",
   "execution_count": 10,
   "id": "24cfd359",
   "metadata": {},
   "outputs": [],
   "source": [
    "def midi2image(midi_path, max_repetitions = float(\"inf\"), resolution = 0.25, lowerBoundNote = 21, upperBoundNote = 127, maxSongLength = 100):\n",
    "    \n",
    "    output_folder = f\"Data_image/{midi_path.split('/')[-1].replace('.mid', '')}\"\n",
    "    if not os.path.exists(output_folder):\n",
    "        os.makedirs(output_folder)\n",
    "    \n",
    "    mid = converter.parse(midi_path)\n",
    "\n",
    "    instruments = instrument.partitionByInstrument(mid)\n",
    "\n",
    "    data = {}\n",
    "\n",
    "    try:\n",
    "        i=0\n",
    "        for instrument_i in instruments.parts:\n",
    "            notes_to_parse = instrument_i.recurse()\n",
    "\n",
    "            notes_data = get_notes(notes_to_parse)\n",
    "            if len(notes_data[\"start\"]) == 0:\n",
    "                continue\n",
    "\n",
    "            if instrument_i.partName is None:\n",
    "                data[\"instrument_{}\".format(i)] = notes_data\n",
    "                i+=1\n",
    "            else:\n",
    "                data[instrument_i.partName] = notes_data\n",
    "\n",
    "    except:\n",
    "        notes_to_parse = mid.flat.notes\n",
    "        data[\"instrument_0\"] = get_notes(notes_to_parse)\n",
    "\n",
    "    for instrument_name, values in data.items():\n",
    "        # https://en.wikipedia.org/wiki/Scientific_pitch_notation#Similar_systems\n",
    "\n",
    "        pitches = values[\"pitch\"]\n",
    "        durs = values[\"dur\"]\n",
    "        starts = values[\"start\"]\n",
    "\n",
    "        index = 0\n",
    "        while index < max_repetitions:\n",
    "            matrix = np.zeros((upperBoundNote-lowerBoundNote,maxSongLength))\n",
    "\n",
    "\n",
    "            for dur, start, pitch in zip(durs, starts, pitches):\n",
    "                dur = int(dur/resolution)\n",
    "                start = int(start/resolution)\n",
    "\n",
    "                if not start > index*(maxSongLength+1) or not dur+start < index*maxSongLength:\n",
    "                    for j in range(start,start+dur):\n",
    "                        if j - index*maxSongLength >= 0 and j - index*maxSongLength < maxSongLength:\n",
    "                            matrix[pitch-lowerBoundNote,j - index*maxSongLength] = 255\n",
    "\n",
    "            if matrix.any(): # If matrix contains no notes (only zeros) don't save it\n",
    "                output_filename = os.path.join(output_folder, midi_path.split('/')[-1].replace(\".mid\",f\"_{instrument_name}_{index}.png\"))\n",
    "                imwrite(output_filename,matrix.astype(np.uint8))\n",
    "                index += 1\n",
    "            else:\n",
    "                break"
   ]
  },
  {
   "cell_type": "code",
   "execution_count": 11,
   "id": "04cde4ab",
   "metadata": {},
   "outputs": [],
   "source": [
    "# Iterating on all files \n",
    "\n",
    "for file in files:\n",
    "    file_path = f\"Data/{file}\"\n",
    "    midi2image(file_path)"
   ]
  },
  {
   "cell_type": "code",
   "execution_count": null,
   "id": "b2032674",
   "metadata": {},
   "outputs": [],
   "source": []
  },
  {
   "cell_type": "code",
   "execution_count": null,
   "id": "1984ee71",
   "metadata": {},
   "outputs": [],
   "source": []
  },
  {
   "cell_type": "code",
   "execution_count": null,
   "id": "27cc71e5",
   "metadata": {},
   "outputs": [],
   "source": []
  },
  {
   "cell_type": "code",
   "execution_count": null,
   "id": "9a28e7f6",
   "metadata": {},
   "outputs": [],
   "source": []
  },
  {
   "cell_type": "code",
   "execution_count": null,
   "id": "2137fff6",
   "metadata": {},
   "outputs": [],
   "source": []
  }
 ],
 "metadata": {
  "kernelspec": {
   "display_name": "Python 3 (ipykernel)",
   "language": "python",
   "name": "python3"
  },
  "language_info": {
   "codemirror_mode": {
    "name": "ipython",
    "version": 3
   },
   "file_extension": ".py",
   "mimetype": "text/x-python",
   "name": "python",
   "nbconvert_exporter": "python",
   "pygments_lexer": "ipython3",
   "version": "3.10.6"
  },
  "toc": {
   "base_numbering": 1,
   "nav_menu": {},
   "number_sections": true,
   "sideBar": true,
   "skip_h1_title": false,
   "title_cell": "Table of Contents",
   "title_sidebar": "Contents",
   "toc_cell": false,
   "toc_position": {},
   "toc_section_display": true,
   "toc_window_display": false
  }
 },
 "nbformat": 4,
 "nbformat_minor": 5
}
