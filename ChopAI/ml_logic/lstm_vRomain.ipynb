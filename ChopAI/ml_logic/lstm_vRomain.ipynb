{
 "cells": [
  {
   "cell_type": "code",
   "execution_count": 1,
   "metadata": {},
   "outputs": [
    {
     "name": "stderr",
     "output_type": "stream",
     "text": [
      "2023-09-13 17:51:00.372930: I tensorflow/core/util/port.cc:110] oneDNN custom operations are on. You may see slightly different numerical results due to floating-point round-off errors from different computation orders. To turn them off, set the environment variable `TF_ENABLE_ONEDNN_OPTS=0`.\n",
      "2023-09-13 17:51:00.374397: I tensorflow/tsl/cuda/cudart_stub.cc:28] Could not find cuda drivers on your machine, GPU will not be used.\n",
      "2023-09-13 17:51:00.413012: I tensorflow/tsl/cuda/cudart_stub.cc:28] Could not find cuda drivers on your machine, GPU will not be used.\n",
      "2023-09-13 17:51:00.414276: I tensorflow/core/platform/cpu_feature_guard.cc:182] This TensorFlow binary is optimized to use available CPU instructions in performance-critical operations.\n",
      "To enable the following instructions: AVX2 AVX512F AVX512_VNNI FMA, in other operations, rebuild TensorFlow with the appropriate compiler flags.\n",
      "2023-09-13 17:51:01.305301: W tensorflow/compiler/tf2tensorrt/utils/py_utils.cc:38] TF-TRT Warning: Could not find TensorRT\n"
     ]
    }
   ],
   "source": [
    "# Data manipulation\n",
    "import numpy as np\n",
    "import pandas as pd\n",
    "\n",
    "# Data Visualiation\n",
    "import matplotlib.pyplot as plt\n",
    "import seaborn as sns\n",
    "\n",
    "# System\n",
    "import os\n",
    "\n",
    "# Performance metrics\n",
    "from sklearn.metrics import mean_squared_error, mean_absolute_error\n",
    "\n",
    "from preprocessing import create_and_preprocess_X_y, create_train_test_set\n",
    "from model import create_y_pred_baseline, calculate_metric, baseline_metric_score\n",
    "\n",
    "\n",
    "# Tensorflow\n",
    "#import tensorflow as tf\n",
    "#from tensorflow import keras\n",
    "from tensorflow.keras import layers, Sequential\n",
    "\n",
    "from tensorflow.keras.callbacks import EarlyStopping\n",
    "\n",
    "from sklearn.preprocessing import MinMaxScaler\n",
    "\n",
    "from tensorflow.keras.preprocessing.sequence import pad_sequences\n",
    "\n",
    "from tensorflow.keras.layers import LSTM, Flatten, Dense"
   ]
  },
  {
   "cell_type": "code",
   "execution_count": 2,
   "metadata": {},
   "outputs": [],
   "source": [
    "# Load and preprocess the data using create_and_preprocess_X_y()\n",
    "X, y = create_and_preprocess_X_y()"
   ]
  },
  {
   "cell_type": "code",
   "execution_count": 3,
   "metadata": {},
   "outputs": [],
   "source": [
    "X_train, X_test, y_train, y_test = create_train_test_set(X, y, train_size=0.8)"
   ]
  },
  {
   "cell_type": "code",
   "execution_count": 4,
   "metadata": {},
   "outputs": [],
   "source": [
    "y_train_pred_baseline, y_test_pred_baseline = create_y_pred_baseline(0.8)"
   ]
  },
  {
   "cell_type": "code",
   "execution_count": 5,
   "metadata": {},
   "outputs": [
    {
     "data": {
      "text/plain": [
       "(13, 100, 106)"
      ]
     },
     "execution_count": 5,
     "metadata": {},
     "output_type": "execute_result"
    }
   ],
   "source": [
    "y_test_pred_baseline.shape"
   ]
  },
  {
   "cell_type": "code",
   "execution_count": 6,
   "metadata": {},
   "outputs": [
    {
     "data": {
      "text/plain": [
       "(13, 100, 106)"
      ]
     },
     "execution_count": 6,
     "metadata": {},
     "output_type": "execute_result"
    }
   ],
   "source": [
    "y_test.shape"
   ]
  },
  {
   "cell_type": "code",
   "execution_count": 7,
   "metadata": {},
   "outputs": [
    {
     "data": {
      "text/plain": [
       "(array([0., 1.]), array([134322,   3478]))"
      ]
     },
     "execution_count": 7,
     "metadata": {},
     "output_type": "execute_result"
    }
   ],
   "source": [
    "np.unique(y_test_pred_baseline, return_counts=True)"
   ]
  },
  {
   "cell_type": "code",
   "execution_count": 8,
   "metadata": {},
   "outputs": [
    {
     "data": {
      "text/plain": [
       "(array([0., 1.]), array([134695,   3105]))"
      ]
     },
     "execution_count": 8,
     "metadata": {},
     "output_type": "execute_result"
    }
   ],
   "source": [
    "np.unique(y_test, return_counts=True)"
   ]
  },
  {
   "cell_type": "code",
   "execution_count": 9,
   "metadata": {},
   "outputs": [],
   "source": [
    "score = calculate_metric(y_test_pred_baseline, y_test)"
   ]
  },
  {
   "cell_type": "code",
   "execution_count": 10,
   "metadata": {},
   "outputs": [
    {
     "data": {
      "text/plain": [
       "0.9573222061000588"
      ]
     },
     "execution_count": 10,
     "metadata": {},
     "output_type": "execute_result"
    }
   ],
   "source": [
    "score"
   ]
  },
  {
   "cell_type": "code",
   "execution_count": 11,
   "metadata": {},
   "outputs": [],
   "source": [
    "# Define the LSTM model\n",
    "model = Sequential([\n",
    "    layers.Masking(mask_value=-1, input_shape=(X_train.shape[1], X_train.shape[2])),\n",
    "    layers.LSTM(units=64, activation ='tanh', return_sequences=True),\n",
    "    layers.LSTM(units=64, activation ='tanh', return_sequences=False),\n",
    "    layers.RepeatVector(100),\n",
    "    layers.TimeDistributed(layers.Dense(units=106, activation = \"softmax\"))\n",
    "])"
   ]
  },
  {
   "cell_type": "code",
   "execution_count": 12,
   "metadata": {},
   "outputs": [
    {
     "name": "stdout",
     "output_type": "stream",
     "text": [
      "Model: \"sequential\"\n",
      "_________________________________________________________________\n",
      " Layer (type)                Output Shape              Param #   \n",
      "=================================================================\n",
      " masking (Masking)           (None, 900, 106)          0         \n",
      "                                                                 \n",
      " lstm (LSTM)                 (None, 900, 64)           43776     \n",
      "                                                                 \n",
      " lstm_1 (LSTM)               (None, 64)                33024     \n",
      "                                                                 \n",
      " repeat_vector (RepeatVecto  (None, 100, 64)           0         \n",
      " r)                                                              \n",
      "                                                                 \n",
      " time_distributed (TimeDist  (None, 100, 106)          6890      \n",
      " ributed)                                                        \n",
      "                                                                 \n",
      "=================================================================\n",
      "Total params: 83690 (326.91 KB)\n",
      "Trainable params: 83690 (326.91 KB)\n",
      "Non-trainable params: 0 (0.00 Byte)\n",
      "_________________________________________________________________\n"
     ]
    }
   ],
   "source": [
    "model.summary()"
   ]
  },
  {
   "cell_type": "code",
   "execution_count": 13,
   "metadata": {},
   "outputs": [],
   "source": [
    "# Compile the model\n",
    "model.compile(optimizer='rmsprop', loss='categorical_crossentropy', metrics=['accuracy'])"
   ]
  },
  {
   "cell_type": "code",
   "execution_count": 14,
   "metadata": {},
   "outputs": [],
   "source": [
    "es = EarlyStopping(patience=30, restore_best_weights=True)"
   ]
  },
  {
   "cell_type": "code",
   "execution_count": 15,
   "metadata": {},
   "outputs": [
    {
     "name": "stdout",
     "output_type": "stream",
     "text": [
      "Epoch 1/500\n",
      "2/2 [==============================] - 10s 3s/step - loss: 12.1868 - accuracy: 0.0076 - val_loss: 12.8277 - val_accuracy: 0.0230\n",
      "Epoch 2/500\n",
      "2/2 [==============================] - 3s 2s/step - loss: 12.0762 - accuracy: 0.0303 - val_loss: 12.6791 - val_accuracy: 0.0230\n",
      "Epoch 3/500\n",
      "2/2 [==============================] - 4s 2s/step - loss: 11.8614 - accuracy: 0.0097 - val_loss: 12.2589 - val_accuracy: 0.0250\n",
      "Epoch 4/500\n",
      "2/2 [==============================] - 4s 2s/step - loss: 11.3638 - accuracy: 0.0089 - val_loss: 11.8702 - val_accuracy: 0.0250\n",
      "Epoch 5/500\n",
      "2/2 [==============================] - 4s 2s/step - loss: 10.9371 - accuracy: 0.0089 - val_loss: 11.6542 - val_accuracy: 0.0200\n",
      "Epoch 6/500\n",
      "2/2 [==============================] - 3s 2s/step - loss: 10.6758 - accuracy: 0.0126 - val_loss: 11.5362 - val_accuracy: 0.0250\n",
      "Epoch 7/500\n",
      "2/2 [==============================] - 3s 2s/step - loss: 10.5140 - accuracy: 0.0132 - val_loss: 11.4584 - val_accuracy: 0.0150\n",
      "Epoch 8/500\n",
      "2/2 [==============================] - 4s 2s/step - loss: 10.4085 - accuracy: 0.0074 - val_loss: 11.4104 - val_accuracy: 0.0230\n",
      "Epoch 9/500\n",
      "2/2 [==============================] - 3s 2s/step - loss: 10.3327 - accuracy: 0.0155 - val_loss: 11.3909 - val_accuracy: 0.0230\n",
      "Epoch 10/500\n",
      "2/2 [==============================] - 3s 2s/step - loss: 10.2782 - accuracy: 0.0153 - val_loss: 11.3632 - val_accuracy: 0.0080\n",
      "Epoch 11/500\n",
      "2/2 [==============================] - 3s 2s/step - loss: 10.2372 - accuracy: 0.0168 - val_loss: 11.3701 - val_accuracy: 0.0230\n",
      "Epoch 12/500\n",
      "2/2 [==============================] - 3s 2s/step - loss: 10.2113 - accuracy: 0.0153 - val_loss: 11.3798 - val_accuracy: 0.0230\n",
      "Epoch 13/500\n",
      "2/2 [==============================] - 3s 2s/step - loss: 10.1940 - accuracy: 0.0153 - val_loss: 11.3503 - val_accuracy: 0.0230\n",
      "Epoch 14/500\n",
      "2/2 [==============================] - 3s 2s/step - loss: 10.1649 - accuracy: 0.0153 - val_loss: 11.3578 - val_accuracy: 0.0230\n",
      "Epoch 15/500\n",
      "2/2 [==============================] - 3s 2s/step - loss: 10.1506 - accuracy: 0.0095 - val_loss: 11.3854 - val_accuracy: 0.0230\n",
      "Epoch 16/500\n",
      "2/2 [==============================] - 3s 2s/step - loss: 10.1409 - accuracy: 0.0153 - val_loss: 11.3481 - val_accuracy: 0.0230\n",
      "Epoch 17/500\n",
      "2/2 [==============================] - 3s 2s/step - loss: 10.1210 - accuracy: 0.0153 - val_loss: 11.3483 - val_accuracy: 0.0170\n",
      "Epoch 18/500\n",
      "2/2 [==============================] - 3s 2s/step - loss: 10.1179 - accuracy: 0.0174 - val_loss: 11.3197 - val_accuracy: 0.0300\n",
      "Epoch 19/500\n",
      "2/2 [==============================] - 3s 2s/step - loss: 10.1049 - accuracy: 0.0095 - val_loss: 11.3246 - val_accuracy: 0.0080\n",
      "Epoch 20/500\n",
      "2/2 [==============================] - 3s 2s/step - loss: 10.0984 - accuracy: 0.0163 - val_loss: 11.3311 - val_accuracy: 0.0080\n",
      "Epoch 21/500\n",
      "2/2 [==============================] - 3s 2s/step - loss: 10.1000 - accuracy: 0.0147 - val_loss: 11.3365 - val_accuracy: 0.0080\n",
      "Epoch 22/500\n",
      "2/2 [==============================] - 3s 2s/step - loss: 10.0903 - accuracy: 0.0168 - val_loss: 11.3165 - val_accuracy: 0.0200\n",
      "Epoch 23/500\n",
      "2/2 [==============================] - 3s 2s/step - loss: 10.0854 - accuracy: 0.0292 - val_loss: 11.3071 - val_accuracy: 0.0190\n",
      "Epoch 24/500\n",
      "2/2 [==============================] - 3s 2s/step - loss: 10.0848 - accuracy: 0.0284 - val_loss: 11.3247 - val_accuracy: 0.0200\n",
      "Epoch 25/500\n",
      "2/2 [==============================] - 3s 2s/step - loss: 10.0702 - accuracy: 0.0266 - val_loss: 11.2995 - val_accuracy: 0.0230\n",
      "Epoch 26/500\n",
      "2/2 [==============================] - 4s 2s/step - loss: 10.0486 - accuracy: 0.0153 - val_loss: 11.2776 - val_accuracy: 0.0070\n",
      "Epoch 27/500\n",
      "2/2 [==============================] - 3s 2s/step - loss: 10.0378 - accuracy: 0.0195 - val_loss: 11.2948 - val_accuracy: 0.0200\n",
      "Epoch 28/500\n",
      "2/2 [==============================] - 4s 2s/step - loss: 10.0363 - accuracy: 0.0316 - val_loss: 11.3390 - val_accuracy: 0.0140\n",
      "Epoch 29/500\n",
      "2/2 [==============================] - 4s 2s/step - loss: 10.0484 - accuracy: 0.0226 - val_loss: 11.3178 - val_accuracy: 0.0200\n",
      "Epoch 30/500\n",
      "2/2 [==============================] - 3s 2s/step - loss: 10.0132 - accuracy: 0.0337 - val_loss: 11.2850 - val_accuracy: 0.0170\n",
      "Epoch 31/500\n",
      "2/2 [==============================] - 3s 2s/step - loss: 9.9956 - accuracy: 0.0192 - val_loss: 11.3506 - val_accuracy: 0.0200\n",
      "Epoch 32/500\n",
      "2/2 [==============================] - 3s 2s/step - loss: 10.0378 - accuracy: 0.0363 - val_loss: 11.3308 - val_accuracy: 0.0120\n",
      "Epoch 33/500\n",
      "2/2 [==============================] - 3s 2s/step - loss: 9.9941 - accuracy: 0.0313 - val_loss: 11.3002 - val_accuracy: 0.0170\n",
      "Epoch 34/500\n",
      "2/2 [==============================] - 4s 2s/step - loss: 9.9760 - accuracy: 0.0189 - val_loss: 11.3157 - val_accuracy: 0.0090\n",
      "Epoch 35/500\n",
      "2/2 [==============================] - 5s 2s/step - loss: 9.9906 - accuracy: 0.0237 - val_loss: 11.2881 - val_accuracy: 0.0240\n",
      "Epoch 36/500\n",
      "2/2 [==============================] - 4s 2s/step - loss: 9.9617 - accuracy: 0.0263 - val_loss: 11.2865 - val_accuracy: 0.0280\n",
      "Epoch 37/500\n",
      "2/2 [==============================] - 4s 2s/step - loss: 9.9712 - accuracy: 0.0347 - val_loss: 11.2919 - val_accuracy: 0.0210\n",
      "Epoch 38/500\n",
      "2/2 [==============================] - 3s 2s/step - loss: 9.9761 - accuracy: 0.0224 - val_loss: 11.2752 - val_accuracy: 0.0170\n",
      "Epoch 39/500\n",
      "2/2 [==============================] - 3s 2s/step - loss: 9.9642 - accuracy: 0.0274 - val_loss: 11.2405 - val_accuracy: 0.0110\n",
      "Epoch 40/500\n",
      "2/2 [==============================] - 3s 2s/step - loss: 9.9170 - accuracy: 0.0234 - val_loss: 11.2793 - val_accuracy: 0.0110\n",
      "Epoch 41/500\n",
      "2/2 [==============================] - 3s 2s/step - loss: 9.9122 - accuracy: 0.0237 - val_loss: 11.2340 - val_accuracy: 0.0260\n",
      "Epoch 42/500\n",
      "2/2 [==============================] - 3s 2s/step - loss: 9.8948 - accuracy: 0.0316 - val_loss: 11.3618 - val_accuracy: 0.0230\n",
      "Epoch 43/500\n",
      "2/2 [==============================] - 3s 2s/step - loss: 9.8718 - accuracy: 0.0179 - val_loss: 11.3199 - val_accuracy: 0.0250\n",
      "Epoch 44/500\n",
      "2/2 [==============================] - 3s 2s/step - loss: 9.8418 - accuracy: 0.0376 - val_loss: 11.2649 - val_accuracy: 0.0290\n",
      "Epoch 45/500\n",
      "2/2 [==============================] - 3s 2s/step - loss: 9.8261 - accuracy: 0.0500 - val_loss: 11.2808 - val_accuracy: 0.0340\n",
      "Epoch 46/500\n",
      "2/2 [==============================] - 3s 2s/step - loss: 9.8395 - accuracy: 0.0489 - val_loss: 11.3104 - val_accuracy: 0.0180\n",
      "Epoch 47/500\n",
      "2/2 [==============================] - 4s 2s/step - loss: 9.8118 - accuracy: 0.0432 - val_loss: 11.5787 - val_accuracy: 0.0200\n",
      "Epoch 48/500\n",
      "2/2 [==============================] - 3s 2s/step - loss: 9.9840 - accuracy: 0.0442 - val_loss: 11.3597 - val_accuracy: 0.0250\n",
      "Epoch 49/500\n",
      "2/2 [==============================] - 4s 2s/step - loss: 9.8153 - accuracy: 0.0403 - val_loss: 11.3559 - val_accuracy: 0.0050\n",
      "Epoch 50/500\n",
      "2/2 [==============================] - 3s 2s/step - loss: 9.7423 - accuracy: 0.0418 - val_loss: 11.3123 - val_accuracy: 0.0110\n",
      "Epoch 51/500\n",
      "2/2 [==============================] - 3s 2s/step - loss: 9.7125 - accuracy: 0.0539 - val_loss: 11.2362 - val_accuracy: 0.0690\n",
      "Epoch 52/500\n",
      "2/2 [==============================] - 3s 2s/step - loss: 9.7565 - accuracy: 0.0434 - val_loss: 11.5410 - val_accuracy: 0.0230\n",
      "Epoch 53/500\n",
      "2/2 [==============================] - 3s 2s/step - loss: 9.8279 - accuracy: 0.0300 - val_loss: 11.4445 - val_accuracy: 0.0230\n",
      "Epoch 54/500\n",
      "2/2 [==============================] - 3s 2s/step - loss: 9.6756 - accuracy: 0.0539 - val_loss: 11.3154 - val_accuracy: 0.0320\n",
      "Epoch 55/500\n",
      "2/2 [==============================] - 3s 2s/step - loss: 9.6698 - accuracy: 0.0292 - val_loss: 11.4179 - val_accuracy: 0.0230\n",
      "Epoch 56/500\n",
      "2/2 [==============================] - 3s 2s/step - loss: 9.6639 - accuracy: 0.0492 - val_loss: 11.4498 - val_accuracy: 0.0260\n",
      "Epoch 57/500\n",
      "2/2 [==============================] - 3s 2s/step - loss: 9.6444 - accuracy: 0.0529 - val_loss: 11.4642 - val_accuracy: 0.0250\n",
      "Epoch 58/500\n",
      "2/2 [==============================] - 3s 2s/step - loss: 9.6127 - accuracy: 0.0405 - val_loss: 11.4196 - val_accuracy: 0.0050\n",
      "Epoch 59/500\n",
      "2/2 [==============================] - 3s 2s/step - loss: 9.6118 - accuracy: 0.0658 - val_loss: 11.4528 - val_accuracy: 0.0310\n",
      "Epoch 60/500\n",
      "2/2 [==============================] - 3s 2s/step - loss: 9.5464 - accuracy: 0.0437 - val_loss: 11.5917 - val_accuracy: 0.0290\n",
      "Epoch 61/500\n",
      "2/2 [==============================] - 3s 2s/step - loss: 9.5223 - accuracy: 0.0576 - val_loss: 11.6068 - val_accuracy: 0.0260\n",
      "Epoch 62/500\n",
      "2/2 [==============================] - 3s 2s/step - loss: 9.6090 - accuracy: 0.0363 - val_loss: 11.6436 - val_accuracy: 0.0230\n",
      "Epoch 63/500\n",
      "2/2 [==============================] - 3s 2s/step - loss: 9.5182 - accuracy: 0.0516 - val_loss: 11.6070 - val_accuracy: 0.0180\n",
      "Epoch 64/500\n",
      "2/2 [==============================] - 3s 2s/step - loss: 9.4400 - accuracy: 0.0561 - val_loss: 11.4843 - val_accuracy: 0.0290\n",
      "Epoch 65/500\n",
      "2/2 [==============================] - 4s 2s/step - loss: 9.4310 - accuracy: 0.0566 - val_loss: 11.5482 - val_accuracy: 0.0280\n",
      "Epoch 66/500\n",
      "2/2 [==============================] - 3s 2s/step - loss: 9.3920 - accuracy: 0.0689 - val_loss: 11.5850 - val_accuracy: 0.0300\n",
      "Epoch 67/500\n",
      "2/2 [==============================] - 3s 2s/step - loss: 9.3657 - accuracy: 0.0671 - val_loss: 11.8851 - val_accuracy: 0.0190\n",
      "Epoch 68/500\n",
      "2/2 [==============================] - 3s 2s/step - loss: 9.5671 - accuracy: 0.0484 - val_loss: 11.6460 - val_accuracy: 0.0090\n",
      "Epoch 69/500\n",
      "2/2 [==============================] - 3s 2s/step - loss: 9.3899 - accuracy: 0.0513 - val_loss: 11.6810 - val_accuracy: 0.0250\n",
      "Epoch 70/500\n",
      "2/2 [==============================] - 3s 2s/step - loss: 9.3914 - accuracy: 0.0497 - val_loss: 11.5880 - val_accuracy: 0.0300\n",
      "Epoch 71/500\n",
      "2/2 [==============================] - 3s 2s/step - loss: 9.3294 - accuracy: 0.0568 - val_loss: 11.6769 - val_accuracy: 0.0280\n"
     ]
    },
    {
     "data": {
      "text/plain": [
       "<keras.src.callbacks.History at 0x7fbfac688880>"
      ]
     },
     "execution_count": 15,
     "metadata": {},
     "output_type": "execute_result"
    }
   ],
   "source": [
    "# Train the model\n",
    "model.fit(X_train, y_train, epochs=500, batch_size=32,validation_split=0.2,\n",
    "          callbacks=[es]) "
   ]
  },
  {
   "cell_type": "code",
   "execution_count": 16,
   "metadata": {},
   "outputs": [
    {
     "name": "stdout",
     "output_type": "stream",
     "text": [
      "1/1 [==============================] - 3s 3s/step\n"
     ]
    }
   ],
   "source": [
    "# Make predictions test \n",
    "y_test_pred = model.predict(X_test)"
   ]
  },
  {
   "cell_type": "code",
   "execution_count": 17,
   "metadata": {},
   "outputs": [],
   "source": [
    "model_score = calculate_metric(y_test_pred, y_test)"
   ]
  },
  {
   "cell_type": "code",
   "execution_count": 18,
   "metadata": {},
   "outputs": [
    {
     "data": {
      "text/plain": [
       "0.0010650396514808997"
      ]
     },
     "execution_count": 18,
     "metadata": {},
     "output_type": "execute_result"
    }
   ],
   "source": [
    "model_score"
   ]
  },
  {
   "cell_type": "code",
   "execution_count": 19,
   "metadata": {},
   "outputs": [
    {
     "data": {
      "text/plain": [
       "array([[[0.00044005, 0.00071261, 0.0003492 , ..., 0.00030933,\n",
       "         0.00038657, 0.00029268],\n",
       "        [0.00044005, 0.00071261, 0.0003492 , ..., 0.00030933,\n",
       "         0.00038657, 0.00029268],\n",
       "        [0.00044005, 0.00071261, 0.0003492 , ..., 0.00030933,\n",
       "         0.00038657, 0.00029268],\n",
       "        ...,\n",
       "        [0.00044005, 0.00071261, 0.0003492 , ..., 0.00030933,\n",
       "         0.00038657, 0.00029268],\n",
       "        [0.00044005, 0.00071261, 0.0003492 , ..., 0.00030933,\n",
       "         0.00038657, 0.00029268],\n",
       "        [0.00044005, 0.00071261, 0.0003492 , ..., 0.00030933,\n",
       "         0.00038657, 0.00029268]],\n",
       "\n",
       "       [[0.00030944, 0.00047777, 0.00022925, ..., 0.00036712,\n",
       "         0.00020741, 0.00031031],\n",
       "        [0.00030944, 0.00047777, 0.00022925, ..., 0.00036712,\n",
       "         0.00020741, 0.00031031],\n",
       "        [0.00030944, 0.00047777, 0.00022925, ..., 0.00036712,\n",
       "         0.00020741, 0.00031031],\n",
       "        ...,\n",
       "        [0.00030944, 0.00047777, 0.00022925, ..., 0.00036712,\n",
       "         0.00020741, 0.00031031],\n",
       "        [0.00030944, 0.00047777, 0.00022925, ..., 0.00036712,\n",
       "         0.00020741, 0.00031031],\n",
       "        [0.00030944, 0.00047777, 0.00022925, ..., 0.00036712,\n",
       "         0.00020741, 0.00031031]],\n",
       "\n",
       "       [[0.0003397 , 0.00055898, 0.00025686, ..., 0.0002819 ,\n",
       "         0.00024168, 0.0002713 ],\n",
       "        [0.0003397 , 0.00055898, 0.00025686, ..., 0.0002819 ,\n",
       "         0.00024168, 0.0002713 ],\n",
       "        [0.0003397 , 0.00055898, 0.00025686, ..., 0.0002819 ,\n",
       "         0.00024168, 0.0002713 ],\n",
       "        ...,\n",
       "        [0.0003397 , 0.00055898, 0.00025686, ..., 0.0002819 ,\n",
       "         0.00024168, 0.0002713 ],\n",
       "        [0.0003397 , 0.00055898, 0.00025686, ..., 0.0002819 ,\n",
       "         0.00024168, 0.0002713 ],\n",
       "        [0.0003397 , 0.00055898, 0.00025686, ..., 0.0002819 ,\n",
       "         0.00024168, 0.0002713 ]],\n",
       "\n",
       "       ...,\n",
       "\n",
       "       [[0.00023137, 0.0004029 , 0.00018531, ..., 0.00031304,\n",
       "         0.00017608, 0.0002528 ],\n",
       "        [0.00023137, 0.0004029 , 0.00018531, ..., 0.00031304,\n",
       "         0.00017608, 0.0002528 ],\n",
       "        [0.00023137, 0.0004029 , 0.00018531, ..., 0.00031304,\n",
       "         0.00017608, 0.0002528 ],\n",
       "        ...,\n",
       "        [0.00023137, 0.0004029 , 0.00018531, ..., 0.00031304,\n",
       "         0.00017608, 0.0002528 ],\n",
       "        [0.00023137, 0.0004029 , 0.00018531, ..., 0.00031304,\n",
       "         0.00017608, 0.0002528 ],\n",
       "        [0.00023137, 0.0004029 , 0.00018531, ..., 0.00031304,\n",
       "         0.00017608, 0.0002528 ]],\n",
       "\n",
       "       [[0.00035132, 0.00054811, 0.00026634, ..., 0.00028455,\n",
       "         0.00025864, 0.00025926],\n",
       "        [0.00035132, 0.00054811, 0.00026634, ..., 0.00028455,\n",
       "         0.00025864, 0.00025926],\n",
       "        [0.00035132, 0.00054811, 0.00026634, ..., 0.00028455,\n",
       "         0.00025864, 0.00025926],\n",
       "        ...,\n",
       "        [0.00035132, 0.00054811, 0.00026634, ..., 0.00028455,\n",
       "         0.00025864, 0.00025926],\n",
       "        [0.00035132, 0.00054811, 0.00026634, ..., 0.00028455,\n",
       "         0.00025864, 0.00025926],\n",
       "        [0.00035132, 0.00054811, 0.00026634, ..., 0.00028455,\n",
       "         0.00025864, 0.00025926]],\n",
       "\n",
       "       [[0.00024562, 0.00038224, 0.00018846, ..., 0.00035693,\n",
       "         0.00015732, 0.00028227],\n",
       "        [0.00024562, 0.00038224, 0.00018846, ..., 0.00035693,\n",
       "         0.00015732, 0.00028227],\n",
       "        [0.00024562, 0.00038224, 0.00018846, ..., 0.00035693,\n",
       "         0.00015732, 0.00028227],\n",
       "        ...,\n",
       "        [0.00024562, 0.00038224, 0.00018846, ..., 0.00035693,\n",
       "         0.00015732, 0.00028227],\n",
       "        [0.00024562, 0.00038224, 0.00018846, ..., 0.00035693,\n",
       "         0.00015732, 0.00028227],\n",
       "        [0.00024562, 0.00038224, 0.00018846, ..., 0.00035693,\n",
       "         0.00015732, 0.00028227]]], dtype=float32)"
      ]
     },
     "execution_count": 19,
     "metadata": {},
     "output_type": "execute_result"
    }
   ],
   "source": [
    "y_test_pred"
   ]
  },
  {
   "cell_type": "code",
   "execution_count": 20,
   "metadata": {},
   "outputs": [
    {
     "name": "stdout",
     "output_type": "stream",
     "text": [
      "[0. 1.] [5676123  143277]\n"
     ]
    }
   ],
   "source": [
    "values, counts = np.unique(X, return_counts=True)\n",
    "print(values, counts)"
   ]
  },
  {
   "cell_type": "code",
   "execution_count": 21,
   "metadata": {},
   "outputs": [
    {
     "data": {
      "text/plain": [
       "0.025242053422732384"
      ]
     },
     "execution_count": 21,
     "metadata": {},
     "output_type": "execute_result"
    }
   ],
   "source": [
    "counts[1]/counts[0]"
   ]
  },
  {
   "cell_type": "code",
   "execution_count": 22,
   "metadata": {},
   "outputs": [
    {
     "data": {
      "text/plain": [
       "(61, 900, 106)"
      ]
     },
     "execution_count": 22,
     "metadata": {},
     "output_type": "execute_result"
    }
   ],
   "source": [
    "X.shape"
   ]
  },
  {
   "cell_type": "code",
   "execution_count": 23,
   "metadata": {},
   "outputs": [
    {
     "data": {
      "text/plain": [
       "(13, 100, 106)"
      ]
     },
     "execution_count": 23,
     "metadata": {},
     "output_type": "execute_result"
    }
   ],
   "source": [
    "y_test_pred.shape"
   ]
  },
  {
   "cell_type": "code",
   "execution_count": 24,
   "metadata": {},
   "outputs": [],
   "source": [
    "values_ypred, counts_ypred = np.unique(y_test_pred, return_counts=True)"
   ]
  }
 ],
 "metadata": {
  "kernelspec": {
   "display_name": "ChopAI",
   "language": "python",
   "name": "python3"
  },
  "language_info": {
   "codemirror_mode": {
    "name": "ipython",
    "version": 3
   },
   "file_extension": ".py",
   "mimetype": "text/x-python",
   "name": "python",
   "nbconvert_exporter": "python",
   "pygments_lexer": "ipython3",
   "version": "3.10.6"
  },
  "orig_nbformat": 4
 },
 "nbformat": 4,
 "nbformat_minor": 2
}
