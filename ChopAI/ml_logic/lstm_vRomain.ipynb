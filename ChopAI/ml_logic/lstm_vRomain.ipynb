{
 "cells": [
  {
   "cell_type": "code",
   "execution_count": 66,
   "metadata": {},
   "outputs": [],
   "source": [
    "# Data manipulation\n",
    "import numpy as np\n",
    "import pandas as pd\n",
    "\n",
    "# Data Visualiation\n",
    "import matplotlib.pyplot as plt\n",
    "import seaborn as sns\n",
    "\n",
    "# System\n",
    "import os\n",
    "\n",
    "# Performance metrics\n",
    "from sklearn.metrics import mean_squared_error, mean_absolute_error\n",
    "\n",
    "from preprocessing import create_and_preprocess_X_y, create_train_test_set\n",
    "from model import create_y_pred_baseline, calculate_metric, baseline_metric_score\n",
    "\n",
    "\n",
    "# Tensorflow\n",
    "import tensorflow as tf\n",
    "from tensorflow import keras\n",
    "from tensorflow.keras import layers, Sequential\n",
    "\n",
    "from tensorflow.keras.callbacks import EarlyStopping\n",
    "\n",
    "from sklearn.preprocessing import MinMaxScaler\n",
    "\n",
    "from tensorflow.keras.preprocessing.sequence import pad_sequences\n",
    "\n",
    "from tensorflow.keras.layers import LSTM, Flatten, Dense"
   ]
  },
  {
   "cell_type": "code",
   "execution_count": 67,
   "metadata": {},
   "outputs": [],
   "source": [
    "# Load and preprocess the data using create_and_preprocess_X_y()\n",
    "X, y = create_and_preprocess_X_y()"
   ]
  },
  {
   "cell_type": "code",
   "execution_count": 68,
   "metadata": {},
   "outputs": [],
   "source": [
    "X_train, X_test, y_train, y_test = create_train_test_set(X, y, train_size=0.8)"
   ]
  },
  {
   "cell_type": "code",
   "execution_count": 69,
   "metadata": {},
   "outputs": [],
   "source": [
    "y_train_pred_baseline, y_test_pred_baseline = create_y_pred_baseline(0.8)"
   ]
  },
  {
   "cell_type": "code",
   "execution_count": 70,
   "metadata": {},
   "outputs": [
    {
     "data": {
      "text/plain": [
       "(18, 1, 106)"
      ]
     },
     "execution_count": 70,
     "metadata": {},
     "output_type": "execute_result"
    }
   ],
   "source": [
    "y_test_pred_baseline.shape"
   ]
  },
  {
   "cell_type": "code",
   "execution_count": 71,
   "metadata": {},
   "outputs": [
    {
     "data": {
      "text/plain": [
       "(18, 1, 106)"
      ]
     },
     "execution_count": 71,
     "metadata": {},
     "output_type": "execute_result"
    }
   ],
   "source": [
    "y_test.shape"
   ]
  },
  {
   "cell_type": "code",
   "execution_count": 72,
   "metadata": {},
   "outputs": [
    {
     "data": {
      "text/plain": [
       "(array([0., 1.]), array([1862,   46]))"
      ]
     },
     "execution_count": 72,
     "metadata": {},
     "output_type": "execute_result"
    }
   ],
   "source": [
    "np.unique(y_test_pred_baseline, return_counts=True)"
   ]
  },
  {
   "cell_type": "code",
   "execution_count": 73,
   "metadata": {},
   "outputs": [
    {
     "data": {
      "text/plain": [
       "(array([0., 1.]), array([1853,   55]))"
      ]
     },
     "execution_count": 73,
     "metadata": {},
     "output_type": "execute_result"
    }
   ],
   "source": [
    "np.unique(y_test, return_counts=True)"
   ]
  },
  {
   "cell_type": "code",
   "execution_count": 74,
   "metadata": {},
   "outputs": [],
   "source": [
    "score = calculate_metric(y_test_pred_baseline, y_test)"
   ]
  },
  {
   "cell_type": "code",
   "execution_count": 75,
   "metadata": {},
   "outputs": [
    {
     "data": {
      "text/plain": [
       "0.04979035638915094"
      ]
     },
     "execution_count": 75,
     "metadata": {},
     "output_type": "execute_result"
    }
   ],
   "source": [
    "score"
   ]
  },
  {
   "cell_type": "code",
   "execution_count": 76,
   "metadata": {},
   "outputs": [],
   "source": [
    "# Define the LSTM model\n",
    "model = Sequential([\n",
    "    layers.Masking(mask_value=-1, input_shape=(X_train.shape[1], X_train.shape[2])),\n",
    "    layers.LSTM(units=64, activation ='tanh', return_sequences=True),\n",
    "    layers.LSTM(units=64, activation ='tanh', return_sequences=True),\n",
    "    layers.LSTM(units=64, activation ='tanh', return_sequences=False),\n",
    "    layers.RepeatVector(1),\n",
    "    layers.TimeDistributed(layers.Dense(units=106, activation = \"softmax\"))\n",
    "])"
   ]
  },
  {
   "cell_type": "code",
   "execution_count": 77,
   "metadata": {},
   "outputs": [
    {
     "name": "stdout",
     "output_type": "stream",
     "text": [
      "Model: \"sequential_3\"\n",
      "_________________________________________________________________\n",
      " Layer (type)                Output Shape              Param #   \n",
      "=================================================================\n",
      " masking_3 (Masking)         (None, 200, 106)          0         \n",
      "                                                                 \n",
      " lstm_8 (LSTM)               (None, 200, 64)           43776     \n",
      "                                                                 \n",
      " lstm_9 (LSTM)               (None, 200, 64)           33024     \n",
      "                                                                 \n",
      " lstm_10 (LSTM)              (None, 64)                33024     \n",
      "                                                                 \n",
      " repeat_vector_3 (RepeatVec  (None, 1, 64)             0         \n",
      " tor)                                                            \n",
      "                                                                 \n",
      " time_distributed_3 (TimeDi  (None, 1, 106)            6890      \n",
      " stributed)                                                      \n",
      "                                                                 \n",
      "=================================================================\n",
      "Total params: 116714 (455.91 KB)\n",
      "Trainable params: 116714 (455.91 KB)\n",
      "Non-trainable params: 0 (0.00 Byte)\n",
      "_________________________________________________________________\n"
     ]
    }
   ],
   "source": [
    "model.summary()"
   ]
  },
  {
   "cell_type": "code",
   "execution_count": 78,
   "metadata": {},
   "outputs": [],
   "source": [
    "# Compile the model\n",
    "model.compile(optimizer='rmsprop', loss='categorical_crossentropy', metrics=['accuracy'])"
   ]
  },
  {
   "cell_type": "code",
   "execution_count": 79,
   "metadata": {},
   "outputs": [],
   "source": [
    "es = EarlyStopping(patience=20, restore_best_weights=True)"
   ]
  },
  {
   "cell_type": "code",
   "execution_count": 80,
   "metadata": {},
   "outputs": [
    {
     "name": "stdout",
     "output_type": "stream",
     "text": [
      "Epoch 1/500\n"
     ]
    },
    {
     "name": "stdout",
     "output_type": "stream",
     "text": [
      "2/2 [==============================] - 19s 6s/step - loss: 11.9771 - accuracy: 0.0179 - val_loss: 11.6061 - val_accuracy: 0.0000e+00\n",
      "Epoch 2/500\n",
      "2/2 [==============================] - 2s 1s/step - loss: 11.8105 - accuracy: 0.0179 - val_loss: 11.3754 - val_accuracy: 0.0000e+00\n",
      "Epoch 3/500\n",
      "2/2 [==============================] - 2s 1s/step - loss: 11.3593 - accuracy: 0.0179 - val_loss: 11.0406 - val_accuracy: 0.0000e+00\n",
      "Epoch 4/500\n",
      "2/2 [==============================] - 2s 1s/step - loss: 10.9102 - accuracy: 0.0179 - val_loss: 10.9205 - val_accuracy: 0.0000e+00\n",
      "Epoch 5/500\n",
      "2/2 [==============================] - 2s 1s/step - loss: 10.6149 - accuracy: 0.0179 - val_loss: 10.8155 - val_accuracy: 0.0000e+00\n",
      "Epoch 6/500\n",
      "2/2 [==============================] - 1s 787ms/step - loss: 10.3736 - accuracy: 0.0179 - val_loss: 10.7575 - val_accuracy: 0.0000e+00\n",
      "Epoch 7/500\n",
      "2/2 [==============================] - 1s 875ms/step - loss: 10.2283 - accuracy: 0.0536 - val_loss: 10.7510 - val_accuracy: 0.0000e+00\n",
      "Epoch 8/500\n",
      "2/2 [==============================] - 2s 946ms/step - loss: 10.0863 - accuracy: 0.0714 - val_loss: 10.7130 - val_accuracy: 0.0000e+00\n",
      "Epoch 9/500\n",
      "2/2 [==============================] - 2s 947ms/step - loss: 10.0157 - accuracy: 0.0179 - val_loss: 10.7154 - val_accuracy: 0.0000e+00\n",
      "Epoch 10/500\n",
      "2/2 [==============================] - 2s 1s/step - loss: 9.8883 - accuracy: 0.0714 - val_loss: 10.7644 - val_accuracy: 0.0000e+00\n",
      "Epoch 11/500\n",
      "2/2 [==============================] - 2s 996ms/step - loss: 9.8603 - accuracy: 0.0714 - val_loss: 10.7914 - val_accuracy: 0.0000e+00\n",
      "Epoch 12/500\n",
      "2/2 [==============================] - 2s 988ms/step - loss: 9.8316 - accuracy: 0.0714 - val_loss: 10.7749 - val_accuracy: 0.0000e+00\n",
      "Epoch 13/500\n",
      "2/2 [==============================] - 1s 837ms/step - loss: 9.7670 - accuracy: 0.0714 - val_loss: 10.7978 - val_accuracy: 0.0000e+00\n",
      "Epoch 14/500\n",
      "2/2 [==============================] - 5s 4s/step - loss: 9.7866 - accuracy: 0.0714 - val_loss: 10.8062 - val_accuracy: 0.0000e+00\n",
      "Epoch 15/500\n",
      "2/2 [==============================] - 7s 4s/step - loss: 9.6450 - accuracy: 0.0714 - val_loss: 10.8202 - val_accuracy: 0.0000e+00\n",
      "Epoch 16/500\n",
      "2/2 [==============================] - 8s 4s/step - loss: 9.5571 - accuracy: 0.0714 - val_loss: 10.8439 - val_accuracy: 0.0000e+00\n",
      "Epoch 17/500\n",
      "2/2 [==============================] - 1s 813ms/step - loss: 9.5253 - accuracy: 0.0536 - val_loss: 10.8722 - val_accuracy: 0.0000e+00\n",
      "Epoch 18/500\n",
      "2/2 [==============================] - 2s 1s/step - loss: 9.4985 - accuracy: 0.0714 - val_loss: 10.8684 - val_accuracy: 0.0000e+00\n",
      "Epoch 19/500\n",
      "2/2 [==============================] - 2s 960ms/step - loss: 9.3969 - accuracy: 0.0714 - val_loss: 10.9062 - val_accuracy: 0.0000e+00\n",
      "Epoch 20/500\n",
      "2/2 [==============================] - 2s 924ms/step - loss: 9.3971 - accuracy: 0.0893 - val_loss: 10.9159 - val_accuracy: 0.0000e+00\n",
      "Epoch 21/500\n",
      "2/2 [==============================] - 2s 933ms/step - loss: 9.3451 - accuracy: 0.0714 - val_loss: 10.9445 - val_accuracy: 0.0000e+00\n",
      "Epoch 22/500\n",
      "2/2 [==============================] - 2s 1s/step - loss: 9.2141 - accuracy: 0.0536 - val_loss: 10.9968 - val_accuracy: 0.0000e+00\n",
      "Epoch 23/500\n",
      "2/2 [==============================] - 2s 1s/step - loss: 9.2376 - accuracy: 0.0893 - val_loss: 11.0450 - val_accuracy: 0.0000e+00\n",
      "Epoch 24/500\n",
      "2/2 [==============================] - 2s 913ms/step - loss: 9.2861 - accuracy: 0.0714 - val_loss: 10.9843 - val_accuracy: 0.0714\n",
      "Epoch 25/500\n",
      "2/2 [==============================] - 2s 998ms/step - loss: 9.0049 - accuracy: 0.1071 - val_loss: 11.1596 - val_accuracy: 0.0000e+00\n",
      "Epoch 26/500\n",
      "2/2 [==============================] - 2s 1s/step - loss: 9.0291 - accuracy: 0.0893 - val_loss: 11.1581 - val_accuracy: 0.0000e+00\n",
      "Epoch 27/500\n",
      "2/2 [==============================] - 2s 914ms/step - loss: 9.0565 - accuracy: 0.0893 - val_loss: 11.1480 - val_accuracy: 0.0000e+00\n",
      "Epoch 28/500\n",
      "2/2 [==============================] - 1s 836ms/step - loss: 9.0228 - accuracy: 0.1071 - val_loss: 11.1622 - val_accuracy: 0.0714\n"
     ]
    },
    {
     "data": {
      "text/plain": [
       "<keras.src.callbacks.History at 0x7f85566cfe80>"
      ]
     },
     "execution_count": 80,
     "metadata": {},
     "output_type": "execute_result"
    }
   ],
   "source": [
    "# Train the model\n",
    "model.fit(X_train, y_train, epochs=500, batch_size=32,validation_split=0.2,\n",
    "          callbacks=[es]) "
   ]
  },
  {
   "cell_type": "code",
   "execution_count": 81,
   "metadata": {},
   "outputs": [
    {
     "name": "stdout",
     "output_type": "stream",
     "text": [
      "1/1 [==============================] - 5s 5s/step\n"
     ]
    }
   ],
   "source": [
    "# Make predictions test \n",
    "y_test_pred = model.predict(X_test)"
   ]
  },
  {
   "cell_type": "code",
   "execution_count": 82,
   "metadata": {},
   "outputs": [],
   "source": [
    "model_score = calculate_metric(y_test_pred, y_test)"
   ]
  },
  {
   "cell_type": "code",
   "execution_count": 83,
   "metadata": {},
   "outputs": [
    {
     "data": {
      "text/plain": [
       "0.9990453258840095"
      ]
     },
     "execution_count": 83,
     "metadata": {},
     "output_type": "execute_result"
    }
   ],
   "source": [
    "model_score"
   ]
  },
  {
   "cell_type": "code",
   "execution_count": 84,
   "metadata": {},
   "outputs": [
    {
     "data": {
      "text/plain": [
       "array([[[0.00280891, 0.00109556, 0.00374138, ..., 0.00190266,\n",
       "         0.00173814, 0.00301739]],\n",
       "\n",
       "       [[0.00280179, 0.00109674, 0.00378133, ..., 0.00191105,\n",
       "         0.001739  , 0.00303386]],\n",
       "\n",
       "       [[0.0027585 , 0.00107522, 0.00371873, ..., 0.00188198,\n",
       "         0.00169182, 0.00291621]],\n",
       "\n",
       "       ...,\n",
       "\n",
       "       [[0.00281388, 0.00110442, 0.00367768, ..., 0.00190141,\n",
       "         0.00170743, 0.00294573]],\n",
       "\n",
       "       [[0.00278159, 0.00108634, 0.00372981, ..., 0.0018924 ,\n",
       "         0.00170754, 0.0029482 ]],\n",
       "\n",
       "       [[0.00281189, 0.00110084, 0.00384602, ..., 0.00191109,\n",
       "         0.00171244, 0.00300724]]], dtype=float32)"
      ]
     },
     "execution_count": 84,
     "metadata": {},
     "output_type": "execute_result"
    }
   ],
   "source": [
    "y_test_pred"
   ]
  },
  {
   "cell_type": "code",
   "execution_count": 85,
   "metadata": {},
   "outputs": [
    {
     "name": "stdout",
     "output_type": "stream",
     "text": [
      "[0. 1.] [1819863   45737]\n"
     ]
    }
   ],
   "source": [
    "values, counts = np.unique(X, return_counts=True)\n",
    "print(values, counts)"
   ]
  },
  {
   "cell_type": "code",
   "execution_count": 86,
   "metadata": {},
   "outputs": [
    {
     "data": {
      "text/plain": [
       "0.025132111593015517"
      ]
     },
     "execution_count": 86,
     "metadata": {},
     "output_type": "execute_result"
    }
   ],
   "source": [
    "counts[1]/counts[0]"
   ]
  },
  {
   "cell_type": "code",
   "execution_count": 87,
   "metadata": {},
   "outputs": [
    {
     "data": {
      "text/plain": [
       "(88, 200, 106)"
      ]
     },
     "execution_count": 87,
     "metadata": {},
     "output_type": "execute_result"
    }
   ],
   "source": [
    "X.shape"
   ]
  },
  {
   "cell_type": "code",
   "execution_count": 88,
   "metadata": {},
   "outputs": [
    {
     "data": {
      "text/plain": [
       "(18, 1, 106)"
      ]
     },
     "execution_count": 88,
     "metadata": {},
     "output_type": "execute_result"
    }
   ],
   "source": [
    "y_test_pred.shape"
   ]
  },
  {
   "cell_type": "code",
   "execution_count": 89,
   "metadata": {},
   "outputs": [],
   "source": [
    "values_ypred, counts_ypred = np.unique(y_test_pred, return_counts=True)"
   ]
  }
 ],
 "metadata": {
  "kernelspec": {
   "display_name": "ChopAI",
   "language": "python",
   "name": "python3"
  },
  "language_info": {
   "codemirror_mode": {
    "name": "ipython",
    "version": 3
   },
   "file_extension": ".py",
   "mimetype": "text/x-python",
   "name": "python",
   "nbconvert_exporter": "python",
   "pygments_lexer": "ipython3",
   "version": "3.10.6"
  },
  "orig_nbformat": 4
 },
 "nbformat": 4,
 "nbformat_minor": 2
}
